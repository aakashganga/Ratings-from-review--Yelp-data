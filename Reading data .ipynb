{
 "cells": [
  {
   "cell_type": "code",
   "execution_count": 1,
   "metadata": {
    "collapsed": false,
    "scrolled": false
   },
   "outputs": [
    {
     "name": "stdout",
     "output_type": "stream",
     "text": [
      "file read\n"
     ]
    }
   ],
   "source": [
    "#Reading the review data and storing it in pandas\n",
    "#Reading large files as streams, not as blocks because this is a very big file - 2.3 GB\n",
    "import json\n",
    "import pandas as pd\n",
    "import sys\n",
    "counter =0\n",
    "with open('review.json', 'r') as infile:\n",
    "    review =[]\n",
    "    for line in infile:\n",
    "        review.append(json.loads(line))\n",
    "        if sys.getsizeof(review)> 1000000:\n",
    "            counter = counter +1\n",
    "            df=pd.DataFrame.from_dict(review)\n",
    "            df.drop(['review_id','votes','type'], axis=1).to_pickle('review'+ str(counter))\n",
    "            review =[]\n",
    "            del df\n",
    "counter = counter +1\n",
    "df=pd.DataFrame.from_dict(review)\n",
    "df.drop(['review_id','votes','type'], axis=1).to_pickle('review'+ str(counter))\n",
    "print('file read')"
   ]
  }
 ],
 "metadata": {
  "anaconda-cloud": {},
  "kernelspec": {
   "display_name": "Python [default]",
   "language": "python",
   "name": "python2"
  },
  "language_info": {
   "codemirror_mode": {
    "name": "ipython",
    "version": 2
   },
   "file_extension": ".py",
   "mimetype": "text/x-python",
   "name": "python",
   "nbconvert_exporter": "python",
   "pygments_lexer": "ipython2",
   "version": "2.7.12"
  }
 },
 "nbformat": 4,
 "nbformat_minor": 0
}
