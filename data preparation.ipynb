{
 "cells": [
  {
   "cell_type": "code",
   "execution_count": 1,
   "metadata": {
    "collapsed": false
   },
   "outputs": [
    {
     "name": "stdout",
     "output_type": "stream",
     "text": [
      "file_read\n"
     ]
    }
   ],
   "source": [
    "import pandas as pd\n",
    "df = pd.read_pickle('business_data')\n",
    "df= df.sample(frac=1)#Shuffling the dataset\n",
    "print('file_read')"
   ]
  },
  {
   "cell_type": "code",
   "execution_count": 2,
   "metadata": {
    "collapsed": false,
    "scrolled": true
   },
   "outputs": [
    {
     "name": "stdout",
     "output_type": "stream",
     "text": [
      "done\n"
     ]
    }
   ],
   "source": [
    "#Preparing the input in numpy array- step 1\n",
    "import numpy as np\n",
    "X_mod = df['words_vector'].tolist()\n",
    "y_mod=  np.array(df['stars'].tolist())\n",
    "del df\n",
    "print('done')"
   ]
  },
  {
   "cell_type": "code",
   "execution_count": 3,
   "metadata": {
    "collapsed": false,
    "scrolled": false
   },
   "outputs": [
    {
     "name": "stdout",
     "output_type": "stream",
     "text": [
      "done\n"
     ]
    }
   ],
   "source": [
    "#Preparing the input in numpy array- step 2\n",
    "import numpy as np\n",
    "import sys\n",
    "max_words=30# This number can be increased but I am limited by my machine's memory\n",
    "vector_size=100\n",
    "X = np.empty((len(X_mod),max_words,vector_size))\n",
    "for index1 in range(0,len(X_mod)):\n",
    "    if len(X_mod[index1])< max_words:\n",
    "        for index2 in range(0,max_words - len(X_mod[index1])):\n",
    "             for index3 in range(0,vector_size):\n",
    "                    X[index1][index2][index3]=0\n",
    "        for index2 in range(0,len(X_mod[index1])):\n",
    "             for index3 in range(0,vector_size):\n",
    "                    X[index1][max_words - len(X_mod[index1]) + index2][index3]=X_mod[index1][index2][index3]\n",
    "    else:\n",
    "        for index2 in range(0,max_words):\n",
    "             for index3 in range(0,vector_size):\n",
    "                    X[index1][index2][index3]=X_mod[index1][index2][index3]\n",
    "print('done')"
   ]
  },
  {
   "cell_type": "code",
   "execution_count": 5,
   "metadata": {
    "collapsed": false
   },
   "outputs": [
    {
     "name": "stdout",
     "output_type": "stream",
     "text": [
      "done\n"
     ]
    }
   ],
   "source": [
    "#Preparing the output vector\n",
    "y = np.zeros((len(y_mod),5))\n",
    "for item in range(0,len(y_mod)):\n",
    "    y[item][y_mod[item]-1] = 1\n",
    "print('done')"
   ]
  },
  {
   "cell_type": "code",
   "execution_count": 6,
   "metadata": {
    "collapsed": false
   },
   "outputs": [
    {
     "name": "stdout",
     "output_type": "stream",
     "text": [
      "done\n"
     ]
    }
   ],
   "source": [
    "#Freeing memory\n",
    "del X_mod\n",
    "del y_mod\n",
    "np.save('X',X)\n",
    "np.save('y',y)\n",
    "print('done')"
   ]
  }
 ],
 "metadata": {
  "anaconda-cloud": {},
  "kernelspec": {
   "display_name": "Python [default]",
   "language": "python",
   "name": "python2"
  },
  "language_info": {
   "codemirror_mode": {
    "name": "ipython",
    "version": 2
   },
   "file_extension": ".py",
   "mimetype": "text/x-python",
   "name": "python",
   "nbconvert_exporter": "python",
   "pygments_lexer": "ipython2",
   "version": "2.7.12"
  }
 },
 "nbformat": 4,
 "nbformat_minor": 1
}
